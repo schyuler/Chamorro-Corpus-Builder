{
 "cells": [
  {
   "cell_type": "markdown",
   "id": "98bd9117-cde8-4c82-8beb-189205b82c08",
   "metadata": {},
   "source": [
    "# Chamorro Text Extraction"
   ]
  },
  {
   "cell_type": "markdown",
   "id": "45ae6093-b26d-4f58-a431-4e525ec4573a",
   "metadata": {},
   "source": [
    "This script is for extracting Chamorro text from PDFs that are not scanned images."
   ]
  },
  {
   "cell_type": "markdown",
   "id": "7d3ad45e-9e15-4bd9-8afc-4206cba099a2",
   "metadata": {},
   "source": [
    "**Name:** Schyuler Lujan <br>\n",
    "**Date Started:** 13-May-2025 <br>\n",
    "**Date Completed:** In Progress"
   ]
  },
  {
   "cell_type": "markdown",
   "id": "7166ac04-0ad1-4c02-8e67-f99ef7106b09",
   "metadata": {},
   "source": [
    "# Import Libraries"
   ]
  },
  {
   "cell_type": "code",
   "execution_count": null,
   "id": "1dee3282-6fa7-4d86-af11-cee9878ab942",
   "metadata": {},
   "outputs": [],
   "source": [
    "# Install libraries\n",
    "#!pip install pymupdf"
   ]
  },
  {
   "cell_type": "code",
   "execution_count": null,
   "id": "1462eda2-320b-4ea8-9232-2290e0000a3e",
   "metadata": {},
   "outputs": [],
   "source": [
    "# Import relevant libraries\n",
    "import fitz # for working with PDFs\n",
    "import os\n",
    "\n",
    "# Import libraries for tokenization and text cleanup\n",
    "from nltk import tokenize\n",
    "import re\n",
    "import string"
   ]
  },
  {
   "cell_type": "markdown",
   "id": "9379bcda-078b-4540-81c8-c9751b11caae",
   "metadata": {},
   "source": [
    "# Set PDF Path"
   ]
  },
  {
   "cell_type": "code",
   "execution_count": null,
   "id": "02d56499-0eb9-489a-abae-61426f3b1f0f",
   "metadata": {},
   "outputs": [],
   "source": [
    "# Set the file path for accessing PDFs\n",
    "base_path = # BASE PATH GOES HERE\n",
    "folder_path_pdf = base_path + \"Chamorro-Corpus-Builder/inputs/pdf\""
   ]
  },
  {
   "cell_type": "markdown",
   "id": "fbecf87b-6ad4-4951-87b9-f98702ff7431",
   "metadata": {},
   "source": [
    "# Extract Text from PDF"
   ]
  },
  {
   "cell_type": "code",
   "execution_count": null,
   "id": "73be583d-cfa6-433c-a1a4-6ce09f65ff7b",
   "metadata": {},
   "outputs": [],
   "source": [
    "def extract_text_from_pdf(pdf_path):\n",
    "    \"\"\"\n",
    "    Extracts the text from a PDF.\n",
    "    \"\"\"\n",
    "    # Initialize string\n",
    "    text = \"\"\n",
    "\n",
    "    with fitz.open(pdf_path) as doc:\n",
    "        for page in doc:\n",
    "            text += page.get_text()\n",
    "            \n",
    "    return text"
   ]
  },
  {
   "cell_type": "code",
   "execution_count": null,
   "id": "b88abaf3-0aca-4c3c-bbef-1847e1baa957",
   "metadata": {},
   "outputs": [],
   "source": [
    "### DELETE ME test document ###\n",
    "test_pdf_path = folder_path_pdf + \"/Chamorro_Addendum_Military_Relocation_FEIS.pdf\""
   ]
  },
  {
   "cell_type": "code",
   "execution_count": null,
   "id": "80052eca-3739-4fef-beff-6f3842bd47a9",
   "metadata": {},
   "outputs": [],
   "source": [
    "# Extract text from PDF\n",
    "pdf_text = extract_text_from_pdf(test_pdf_path)"
   ]
  },
  {
   "cell_type": "markdown",
   "id": "5215b9b4-fc5f-4747-b9bb-98e4c5cd17eb",
   "metadata": {},
   "source": [
    "# Split Text Into Sentences"
   ]
  },
  {
   "cell_type": "code",
   "execution_count": null,
   "id": "31b76af8-7697-4d77-a0d2-a2afa56c3e05",
   "metadata": {},
   "outputs": [],
   "source": [
    "def split_into_sentences(text):\n",
    "    \"\"\"\n",
    "    \"\"\"\n",
    "    # Clean up text before splitting\n",
    "    text = text.replace('\\n', ' ')\n",
    "    text = text.strip()\n",
    "    \n",
    "    # Split text into sentences\n",
    "    sentences = tokenize.sent_tokenize(text)\n",
    "        \n",
    "    return sentences"
   ]
  },
  {
   "cell_type": "code",
   "execution_count": null,
   "id": "1a06027a-3220-4570-a8eb-e74d4d030a45",
   "metadata": {},
   "outputs": [],
   "source": [
    "### TEST DATA Split text into sentences and return data\n",
    "sentences = split_into_sentences(pdf_text)\n",
    "len(sentences)"
   ]
  },
  {
   "cell_type": "markdown",
   "id": "d3e7a9a8-68b3-48c7-a388-321f02352e02",
   "metadata": {},
   "source": [
    "# Batch Processing of All PDFs"
   ]
  },
  {
   "cell_type": "code",
   "execution_count": null,
   "id": "0adaa1d7-0a9b-4195-9f64-f6b6b8304c22",
   "metadata": {},
   "outputs": [],
   "source": [
    "# Extract text from all PDFs in the folder\n",
    "def get_pdf_filenames(folder_path):\n",
    "    \"\"\"\n",
    "    Batch processing of PDF text extraction.\n",
    "    \"\"\"\n",
    "    # TODO Initialize dictionary for storing data\n",
    "\n",
    "    # TODO Get filename for data tagging\n",
    "\n",
    "    # FIXME: write the batch process\n",
    "    # for filename in os.listdir(pdf_folder):\n",
    "    # if filename.endswith(\".pdf\"):\n",
    "    #     pdf_path = os.path.join(pdf_folder, filename)\n",
    "    #     text = extract_text_from_pdf(pdf_path)\n",
    "    #     sentences = split_into_sentences(text)\n",
    "    return None"
   ]
  }
 ],
 "metadata": {
  "kernelspec": {
   "display_name": "Python [conda env:base] *",
   "language": "python",
   "name": "conda-base-py"
  },
  "language_info": {
   "codemirror_mode": {
    "name": "ipython",
    "version": 3
   },
   "file_extension": ".py",
   "mimetype": "text/x-python",
   "name": "python",
   "nbconvert_exporter": "python",
   "pygments_lexer": "ipython3",
   "version": "3.11.7"
  }
 },
 "nbformat": 4,
 "nbformat_minor": 5
}
